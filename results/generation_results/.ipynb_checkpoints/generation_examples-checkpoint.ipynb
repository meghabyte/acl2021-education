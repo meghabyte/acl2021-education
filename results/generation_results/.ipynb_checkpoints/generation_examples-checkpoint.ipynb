{
 "cells": [
  {
   "cell_type": "code",
   "execution_count": 1,
   "metadata": {
    "collapsed": true
   },
   "outputs": [],
   "source": [
    "from matplotlib import pyplot as plt\n",
    "import numpy as np\n",
    "import re \n",
    "import ast\n",
    "from collections import defaultdict\n",
    "numbers = re.compile(r'\\d+(?:\\.\\d+)?')\n",
    "with open(\"french_2_200_p1\") as f:\n",
    "    french_np = f.readlines()\n",
    "with open(\"french_2_200_p13\") as f:\n",
    "    french_p = f.readlines()\n",
    "with open(\"output_2_200_longv_p3\") as f:\n",
    "    spanish_p = f.readlines()\n",
    "with open(\"output_2_200_longv_p1\") as f:\n",
    "    spanish_np = f.readlines()"
   ]
  },
  {
   "cell_type": "code",
   "execution_count": 86,
   "metadata": {},
   "outputs": [
    {
     "name": "stdout",
     "output_type": "stream",
     "text": [
      "set()\n"
     ]
    }
   ],
   "source": [
    "def vocab():\n",
    "    v = set()\n",
    "    with open(\"all_french_train\") as f:\n",
    "        ftrain = f.readlines()\n",
    "    for l in ftrain:\n",
    "        for w in l.replace(\".\",\"\").replace(\",\",\"\").replace(\"!\",\"\").replace(\"?\",\"\").replace(\"'\",\"\").split(\" \"):\n",
    "            v.add(w.lower())\n",
    "    vr = set()\n",
    "    res = ast.literal_eval(french_np[-10].replace(\"\\n\",\"\"))  \n",
    "    for r in res:\n",
    "        for r1 in r:\n",
    "            for w in r1.replace(\".\",\"\").replace(\",\",\"\").replace(\"!\",\"\").replace(\"?\",\"\").replace(\"'\",\"\").split(\" \"):\n",
    "                vr.add(w.lower())\n",
    "    print(vr-v)\n",
    "vocab()        "
   ]
  },
  {
   "cell_type": "code",
   "execution_count": 42,
   "metadata": {},
   "outputs": [
    {
     "name": "stdout",
     "output_type": "stream",
     "text": [
      "14\n",
      "(0.43333333333333335, 0.43333333333333335, 0.13333333333333333)\n",
      "14\n",
      "(0.3333333333333333, 0.6666666666666666, 0.0)\n",
      "14\n",
      "(0.8666666666666667, 0.13333333333333333, 0.0)\n",
      "14\n",
      "(0.8, 0.2, 0.0)\n",
      "6\n",
      "(0.03333333333333333, 0.7333333333333333, 0.23333333333333334)\n",
      "6\n",
      "(0.3, 0.6333333333333333, 0.06666666666666667)\n",
      "6\n",
      "(0.43333333333333335, 0.5666666666666667, 0.0)\n",
      "13\n",
      "(0.43333333333333335, 0.5666666666666667, 0.0)\n",
      "14\n",
      "(0.16666666666666666, 0.2, 0.6333333333333333)\n",
      "14\n",
      "(0.1, 0.43333333333333335, 0.4666666666666667)\n",
      "14\n",
      "(0.43333333333333335, 0.4666666666666667, 0.1)\n",
      "14\n",
      "(0.7, 0.26666666666666666, 0.03333333333333333)\n",
      "6\n",
      "(0.03333333333333333, 0.26666666666666666, 0.7)\n",
      "6\n",
      "(0.16666666666666666, 0.4666666666666667, 0.36666666666666664)\n",
      "6\n",
      "(0.3333333333333333, 0.5, 0.16666666666666666)\n",
      "13\n",
      "(0.3, 0.5, 0.2)\n"
     ]
    }
   ],
   "source": [
    "def analysis(target, target_key, student_key, files=[\"all_french_train\", \"all_french_prompts.txt\"]):\n",
    "    with open(files[0]) as f:\n",
    "        ftrain = f.readlines()\n",
    "    with open(files[1]) as f:\n",
    "        fprompts = f.readlines()\n",
    "    ftrain = \"\".join(ftrain)\n",
    "    fprompts = \"\".join(fprompts)\n",
    "    res = ast.literal_eval(target[-10].replace(\"\\n\",\"\")) \n",
    "    val_dict = defaultdict(lambda: [])\n",
    "    for i in range(0,len(res), 15):\n",
    "        for j in range(0, 15):\n",
    "            key = str(((i/15)+1)*10)\n",
    "            val_dict[key].append(res[i+j])\n",
    "    prompts=0\n",
    "    all_arr = []\n",
    "    train=0\n",
    "    new=0\n",
    "    for li in range(len(val_dict[target_key])):\n",
    "        if(li != student_key):\n",
    "            continue\n",
    "        print(li)\n",
    "        for l in val_dict[target_key][li]:\n",
    "            if (l  in fprompts and l in ftrain):\n",
    "                #print(l)\n",
    "                prompts +=1\n",
    "                all_arr.append(\"PROMPT_\"+l)\n",
    "            elif (l in ftrain and l not in fprompts):\n",
    "                #print(l)\n",
    "                train +=1\n",
    "                all_arr.append(\"TRAIN_\"+l)\n",
    "            elif (l not in fprompts and l not in ftrain):\n",
    "                #print(l)\n",
    "                new+=1\n",
    "                all_arr.append(\"NEW_\"+l)\n",
    "    print((prompts/30, train/30, new/30))\n",
    "    return np.sort(all_arr)\n",
    "from collections import defaultdict\n",
    "results_dict = defaultdict(dict)\n",
    "for t in [\"10.0\",\"30.0\",\"70.0\",\"90.0\"]:\n",
    "    results_dict[\"french_np\"][t] = list(analysis(french_np, target_key=t, student_key=14, files=[\"all_french_train\", \"all_french_prompts.txt\"]))\n",
    "for t in [\"10.0\",\"30.0\",\"70.0\"]:\n",
    "    results_dict[\"spanish_np\"][t] = list(analysis(spanish_np, target_key=t, student_key=6, files=[\"all_spanish_train\", \"all_spanish_prompts.txt\"]))\n",
    "results_dict[\"spanish_np\"][\"90.0\"] = list(analysis(spanish_np, target_key=\"90.0\", student_key=13, files=[\"all_spanish_train\", \"all_spanish_prompts.txt\"]))\n",
    "for t in [\"10.0\",\"30.0\",\"70.0\",\"90.0\"]:\n",
    "    results_dict[\"french_p\"][t] = list(analysis(french_p, target_key=t, student_key=14, files=[\"all_french_train\", \"all_french_prompts.txt\"]))\n",
    "for t in [\"10.0\",\"30.0\",\"70.0\"]:\n",
    "    results_dict[\"spanish_p\"][t] = list(analysis(spanish_p, target_key=t, student_key=6, files=[\"all_spanish_train\", \"all_spanish_prompts.txt\"]))\n",
    "results_dict[\"spanish_p\"][\"90.0\"] = list(analysis(spanish_p, target_key=\"90.0\", student_key=13, files=[\"all_spanish_train\", \"all_spanish_prompts.txt\"]))\n",
    "\n"
   ]
  },
  {
   "cell_type": "code",
   "execution_count": 58,
   "metadata": {},
   "outputs": [
    {
     "name": "stdout",
     "output_type": "stream",
     "text": [
      "\\begin{tabular}{llll}\n",
      "\\toprule\n",
      "                0.9 w/ penalty &                      0.7 w/ penalty &                                     0.3 w/ penalty &                                     0.1 w/ penalty \\\\\n",
      "\\midrule\n",
      " NEW\\_ good morning, how much?  &       NEW\\_ good morning, how's me?  &                           NEW\\_ absolutely no one!  &                NEW\\_ do these children have beans?  \\\\\n",
      "            PROMPT\\_ he walks.  &  NEW\\_ neither figure nor evenTHING  &  NEW\\_ february, marchand four make thirteen tom... &                     NEW\\_ do they come here often?  \\\\\n",
      "            PROMPT\\_ he walks.  &                NEW\\_ yes or no one?  &  NEW\\_ he continues his job with pleasure or int... &         NEW\\_ do we come here often or frequently?  \\\\\n",
      "            PROMPT\\_ he walks.  &        PROMPT\\_ he becomes wealthy.  &                      NEW\\_ he improves his dinner.  &               NEW\\_ do we have chocolate or water?  \\\\\n",
      "            PROMPT\\_ how much?  &                PROMPT\\_ he says no.  &  NEW\\_ he says no his children must speak with h... &         NEW\\_ do we have coffee here or elsewhere?  \\\\\n",
      "            PROMPT\\_ how much?  &                PROMPT\\_ he says no.  &                   NEW\\_ his pepper can be smelled.  &        NEW\\_ do we have coffee together or onsocks  \\\\\n",
      "            PROMPT\\_ how much?  &                  PROMPT\\_ how much?  &             NEW\\_ in short because i love us boys!  &  NEW\\_ do we like to walk distance from one-to t... \\\\\n",
      "            PROMPT\\_ how much?  &                  PROMPT\\_ how much?  &                NEW\\_ in short we like to eat rice.  &        NEW\\_ do we like to walk together or apart?  \\\\\n",
      "            PROMPT\\_ how much?  &                  PROMPT\\_ how much?  &                              NEW\\_ nine minus one?  &          NEW\\_ do we speak soon or after tomorrow?  \\\\\n",
      "            PROMPT\\_ how much?  &                  PROMPT\\_ how much?  &               NEW\\_ nine plus nine makes eighteen.  &                    NEW\\_ is he chinese or Russian?  \\\\\n",
      "            PROMPT\\_ how much?  &                  PROMPT\\_ how much?  &           NEW\\_ otherwise if i eat some baguettes.  &                     NEW\\_ is he chinese or french?  \\\\\n",
      "            PROMPT\\_ how much?  &                      PROMPT\\_ what?  &    NEW\\_ please no sir your children must be here.  &            NEW\\_ is he sleeping or going out time?  \\\\\n",
      "            PROMPT\\_ how much?  &                     PROMPT\\_ where?  &          NEW\\_ she says yes ma'am i love her cats.  &                   NEW\\_ map ofis suggests an area.  \\\\\n",
      "            PROMPT\\_ how much?  &                     PROMPT\\_ where?  &     NEW\\_ this robot has three legs: one for free.  &  NEW\\_ otherwise if i want to eat vegetables or ... \\\\\n",
      "                PROMPT\\_ what?  &                     PROMPT\\_ where?  &                       PROMPT\\_ he becomes wealthy.  &                   NEW\\_ some apples of your apple.  \\\\\n",
      "                PROMPT\\_ what?  &                     PROMPT\\_ where?  &                    PROMPT\\_ he eats twelve apples.  &                      NEW\\_ where do we live today?  \\\\\n",
      "                PROMPT\\_ what?  &         TRAIN\\_ corridor or window?  &                     PROMPT\\_ he finishes his meal.  &          NEW\\_ where does he go after that jacket?  \\\\\n",
      "               PROMPT\\_ where?  &          TRAIN\\_ good morning madam  &                        TRAIN\\_ corridor or window?  &                           NEW\\_ where does she go?  \\\\\n",
      "               PROMPT\\_ where?  &       TRAIN\\_ he cuts the sandwich.  &                      TRAIN\\_ he cuts the sandwich.  &    NEW\\_ which ones do not fall victim to be sold?  \\\\\n",
      "               PROMPT\\_ where?  &             TRAIN\\_ he is powerful.  &                      TRAIN\\_ he has eighteen cats.  &                            PROMPT\\_ is he chinese?  \\\\\n",
      "               PROMPT\\_ where?  &           TRAIN\\_ he walks quickly.  &                      TRAIN\\_ he has eighteen cats.  &                            PROMPT\\_ is he chinese?  \\\\\n",
      "                 PROMPT\\_ zero  &            TRAIN\\_ he walks slowly.  &                      TRAIN\\_ he owns some animals.  &                            PROMPT\\_ is he chinese?  \\\\\n",
      "              TRAIN\\_ in april  &            TRAIN\\_ he walks slowly.  &                        TRAIN\\_ he undoes his coat.  &                                     PROMPT\\_ socks  \\\\\n",
      "            TRAIN\\_ yes or no?  &                    TRAIN\\_ in april  &                             TRAIN\\_ neither do we!  &                                     PROMPT\\_ socks  \\\\\n",
      "            TRAIN\\_ yes or no?  &                  TRAIN\\_ please no!  &                                    TRAIN\\_ please!  &                            TRAIN\\_ beans and bread  \\\\\n",
      "            TRAIN\\_ yes or no?  &                  TRAIN\\_ yes ma'am!  &                    TRAIN\\_ she has sixteen lemons.  &                        TRAIN\\_ corridor or window?  \\\\\n",
      "            TRAIN\\_ yes or no?  &                  TRAIN\\_ yes or no?  &                        TRAIN\\_ these children eat.  &                             TRAIN\\_ neither do we!  \\\\\n",
      "            TRAIN\\_ yes or no?  &                  TRAIN\\_ yes or no?  &                      TRAIN\\_ this one or that one?  &                                    TRAIN\\_ seconds  \\\\\n",
      "            TRAIN\\_ yes or no?  &                  TRAIN\\_ yes or no?  &                      TRAIN\\_ this one or that one?  &                          TRAIN\\_ what's your name?  \\\\\n",
      "            TRAIN\\_ yes or no?  &                  TRAIN\\_ yes or no?  &                               TRAIN\\_ we eat soon.  &                          TRAIN\\_ where do we live?  \\\\\n",
      "\\bottomrule\n",
      "\\end{tabular}\n",
      "\n"
     ]
    }
   ],
   "source": [
    "spanish_d = {#'0.9 w/ penalty': results_dict[\"spanish_p\"][\"90.0\"],\n",
    "             '0.9 w/ no penalty': results_dict[\"spanish_np\"][\"90.0\"],\n",
    "             #'0.7 w/ penalty': results_dict[\"spanish_p\"][\"70.0\"],\n",
    "             '0.7 w/ no penalty': results_dict[\"spanish_np\"][\"70.0\"],\n",
    "             #'0.3 w/ penalty': results_dict[\"spanish_p\"][\"30.0\"],\n",
    "             '0.3 w/ no penalty': results_dict[\"spanish_np\"][\"30.0\"],\n",
    "             #'0.1 w/ penalty': results_dict[\"spanish_p\"][\"10.0\"],\n",
    "             '0.1 w/ no penalty': results_dict[\"spanish_np\"][\"10.0\"]\n",
    "            }\n",
    "french_d = {'0.9 w/ penalty': results_dict[\"french_p\"][\"90.0\"],\n",
    "             #'0.9 w/ no penalty': results_dict[\"french_np\"][\"90.0\"],\n",
    "             '0.7 w/ penalty': results_dict[\"french_p\"][\"70.0\"],\n",
    "             #'0.7 w/ no penalty': results_dict[\"french_np\"][\"70.0\"],\n",
    "             '0.3 w/ penalty': results_dict[\"french_p\"][\"30.0\"],\n",
    "             #'0.3 w/ no penalty': results_dict[\"french_np\"][\"30.0\"],\n",
    "             '0.1 w/ penalty': results_dict[\"french_p\"][\"10.0\"],\n",
    "             #'0.1 w/ no penalty': results_dict[\"french_np\"][\"10.0\"]\n",
    "           }\n",
    "import pandas as pd\n",
    "spanish_df = pd.DataFrame(data=spanish_d)\n",
    "french_df = pd.DataFrame(data=french_d)\n",
    "print(french_df.to_latex(index=False))"
   ]
  },
  {
   "cell_type": "code",
   "execution_count": 46,
   "metadata": {},
   "outputs": [],
   "source": [
    "import pandas as pd\n",
    "spanish_df = pd.DataFrame(data=spanish_d)\n",
    "french_df = pd.DataFrame(data=french_d)"
   ]
  },
  {
   "cell_type": "code",
   "execution_count": 48,
   "metadata": {},
   "outputs": [
    {
     "name": "stdout",
     "output_type": "stream",
     "text": [
      "\\begin{tabular}{lllllllll}\n",
      "\\toprule\n",
      "{} &                         0.9 w/ penalty &                   0.9 w/ no penalty &                         0.7 w/ penalty &              0.7 w/ no penalty &                           0.3 w/ penalty &                        0.3 w/ no penalty &                                     0.1 w/ penalty &                          0.1 w/ no penalty \\\\\n",
      "\\midrule\n",
      "0  &           NEW\\_ are you a model today!  &           PROMPT\\_ according to him  &                      NEW\\_ accordingly  &      PROMPT\\_ according to him  &            NEW\\_ accordingly he does it.  &                    NEW\\_ he did not ask.  &                      NEW\\_ accordingly he does it.  &           NEW\\_ he mixes coffee with milk.  \\\\\n",
      "1  &        NEW\\_ how much or less dollars?  &  PROMPT\\_ february, march and april  &                  NEW\\_ accordingto him  &                PROMPT\\_ i run.  &                  NEW\\_ can we as a band?  &                           NEW\\_ the cuts  &                    NEW\\_ clean your room or close!  &                NEW\\_ the cuts are not big.  \\\\\n",
      "2  &                  NEW\\_ my shoe is red.  &            PROMPT\\_ may is a month.  &      NEW\\_ may is months or many days.  &                PROMPT\\_ i run.  &                   NEW\\_ clean your room!  &       PROMPT\\_ february, march and april  &                             NEW\\_ clean your room!  &             NEW\\_ the gallery is enormous.  \\\\\n",
      "3  &                 NEW\\_ oil against salt  &            PROMPT\\_ may is a month.  &                      NEW\\_ what dream?  &               PROMPT\\_ in july  &                   NEW\\_ clean your room!  &               PROMPT\\_ i write a letter.  &                  NEW\\_ he mixes coffee with water.  &          NEW\\_ the horses are not natural.  \\\\\n",
      "4  &                 NEW\\_ slow, thank you.  &        PROMPT\\_ minutes and seconds  &             NEW\\_ yes, it is possible!  &       PROMPT\\_ may is a month.  &                    NEW\\_ he received it.  &            PROMPT\\_ may starts tomorrow.  &       NEW\\_ how many elephants eat cheese or fish?  &                NEW\\_ the men drink a beer.  \\\\\n",
      "5  &                     NEW\\_ spoon or tea  &       PROMPT\\_ my sister has a job.  &                         PROMPT\\_ nor i  &       PROMPT\\_ may is a month.  &              NEW\\_ i read for two hours.  &            PROMPT\\_ my sister has a job.  &                      NEW\\_ i know about that book.  &       NEW\\_ they probably do not think me.  \\\\\n",
      "6  &              PROMPT\\_ according to him  &              PROMPT\\_ soap, please.  &                         PROMPT\\_ nor i  &       PROMPT\\_ may is a month.  &  NEW\\_ if i eat, she loses her identity.  &             PROMPT\\_ she takes my sugar.  &  NEW\\_ october finds him maximum distance from h... &                  NEW\\_ we can desk a book.  \\\\\n",
      "7  &                 PROMPT\\_ bread and oil  &                      PROMPT\\_ socks  &                         PROMPT\\_ nor i  &              PROMPT\\_ november  &                 NEW\\_ my sister has job.  &          PROMPT\\_ the lion is an animal.  &                      NEW\\_ please clean your room!  &        PROMPT\\_ from september to december  \\\\\n",
      "8  &     PROMPT\\_ february, march and april  &                PROMPT\\_ the colonel  &             PROMPT\\_ red against blue.  &   PROMPT\\_ saturday and sunday  &                    NEW\\_ please open it!  &                PROMPT\\_ we are students.  &        NEW\\_ please open your bottle or newspaper?  &    TRAIN\\_ according to you, it is yellow.  \\\\\n",
      "9  &                     PROMPT\\_ how much?  &          PROMPT\\_ the door is blue.  &           PROMPT\\_ saturday and sunday  &             PROMPT\\_ she eats.  &                     NEW\\_ she blames us!  &               PROMPT\\_ we are witnesses.  &                                 NEW\\_ please sign!  &                  TRAIN\\_ clean the mirror.  \\\\\n",
      "10 &                  PROMPT\\_ if you want.  &                  PROMPT\\_ the floor  &                  PROMPT\\_ she accepts.  &         PROMPT\\_ soap, please.  &          NEW\\_ you drink juice or water.  &             PROMPT\\_ we arrive tomorrow.  &                               NEW\\_ she blames us!  &           TRAIN\\_ clean your room, please.  \\\\\n",
      "11 &           PROMPT\\_ minutes and seconds  &                 PROMPT\\_ the plates  &                 PROMPT\\_ soap, please.  &           PROMPT\\_ the animals  &           PROMPT\\_ every bear eats fish.  &                           TRAIN\\_ a pool  &           NEW\\_ she reads us lunchtime newspapers.  &                  TRAIN\\_ i do not know it.  \\\\\n",
      "12 &          PROMPT\\_ my sister has a job.  &              PROMPT\\_ the secretary  &                PROMPT\\_ until tomorrow  &              PROMPT\\_ the door  &                PROMPT\\_ i write letters.  &  TRAIN\\_ according to you, it is yellow.  &                      NEW\\_ she reads your letters.  &                 TRAIN\\_ i know about that.  \\\\\n",
      "13 &                         PROMPT\\_ socks  &                     TRAIN\\_ a horse  &                         PROMPT\\_ when?  &                TRAIN\\_ a horse  &                   PROMPT\\_ our newspaper  &                    TRAIN\\_ are you here?  &                     NEW\\_ those ducks drink water.  &              TRAIN\\_ i read the newspaper.  \\\\\n",
      "14 &        PROMPT\\_ tomorrow is wednesday.  &            TRAIN\\_ are you a model?  &              PROMPT\\_ you are welcome!  &           TRAIN\\_ he is worse!  &             PROMPT\\_ she takes my sugar.  &                TRAIN\\_ clean the mirror.  &                          NEW\\_ we can abandon him.  &  TRAIN\\_ i want a sandwich without cheese.  \\\\\n",
      "15 &                        TRAIN\\_ a horse  &                    TRAIN\\_ for both  &                        TRAIN\\_ a horse  &                   TRAIN\\_ how?  &                PROMPT\\_ you drink water.  &                   TRAIN\\_ he never runs.  &        NEW\\_ what book have they Chosen me so far?  &              TRAIN\\_ june starts tomorrow.  \\\\\n",
      "16 &               TRAIN\\_ are you a model?  &            TRAIN\\_ he is a teacher.  &                        TRAIN\\_ a plate  &             TRAIN\\_ i am poor.  &                           TRAIN\\_ a pool  &           TRAIN\\_ he received the money.  &  NEW\\_ what does your aunt have under her shirt ... &                       TRAIN\\_ please sign.  \\\\\n",
      "17 &                       TRAIN\\_ for both  &          TRAIN\\_ i am a journalist.  &                TRAIN\\_ eat less bread.  &                 TRAIN\\_ i pay.  &                   TRAIN\\_ are they rich?  &                    TRAIN\\_ i am a woman.  &                   NEW\\_ you can control her water.  &            TRAIN\\_ she reads the calendar.  \\\\\n",
      "18 &                  TRAIN\\_ good morning!  &                     TRAIN\\_ i walk.  &                  TRAIN\\_ good morning!  &                TRAIN\\_ my coat  &                 TRAIN\\_ during the night  &               TRAIN\\_ i eat when i want.  &                    NEW\\_ you can create that menu!  &            TRAIN\\_ the plates are not big.  \\\\\n",
      "19 &                  TRAIN\\_ good morning!  &             TRAIN\\_ i weigh enough.  &                           TRAIN\\_ how?  &                 TRAIN\\_ please  &            TRAIN\\_ finally it is friday.  &                TRAIN\\_ i go towards him.  &            NEW\\_ you can establish two properties.  &         TRAIN\\_ we are following the clue.  \\\\\n",
      "20 &                  TRAIN\\_ good morning.  &      TRAIN\\_ in general i eat meat.  &                     TRAIN\\_ in general  &            TRAIN\\_ the cameras  &                         TRAIN\\_ for both  &             TRAIN\\_ it is raining again.  &              NEW\\_ your house is very put- pretty!  &                  TRAIN\\_ we drink quickly.  \\\\\n",
      "21 &                     TRAIN\\_ in general  &        TRAIN\\_ it is raining again.  &                         TRAIN\\_ me too  &            TRAIN\\_ the gallery  &                         TRAIN\\_ for both  &          TRAIN\\_ please open the bottle.  &                       PROMPT\\_ your place or mine?  &                  TRAIN\\_ we drink quickly.  \\\\\n",
      "22 &         TRAIN\\_ in general i eat meat.  &                TRAIN\\_ oil and salt  &                     TRAIN\\_ of course!  &             TRAIN\\_ the square  &                TRAIN\\_ how many dollars?  &                     TRAIN\\_ please sign.  &                      TRAIN\\_ june starts tomorrow.  &                  TRAIN\\_ we drink quickly.  \\\\\n",
      "23 &                    TRAIN\\_ me neither.  &                TRAIN\\_ please sign.  &                         TRAIN\\_ please  &               TRAIN\\_ to whom?  &                TRAIN\\_ i go towards him.  &                   TRAIN\\_ she blames us.  &                   TRAIN\\_ previously on television  &               TRAIN\\_ we eat strawberries.  \\\\\n",
      "24 &                     TRAIN\\_ of course!  &              TRAIN\\_ she blames us.  &              TRAIN\\_ see you tomorrow!  &       TRAIN\\_ today is monday.  &            TRAIN\\_ june starts tomorrow.  &                TRAIN\\_ she is my mother.  &                          TRAIN\\_ we drink quickly.  &                      TRAIN\\_ we eat there.  \\\\\n",
      "25 &                   TRAIN\\_ please sign.  &           TRAIN\\_ she is my mother.  &                       TRAIN\\_ to whom?  &    TRAIN\\_ today is wednesday.  &                       TRAIN\\_ of course!  &                    TRAIN\\_ the elephants  &                   TRAIN\\_ you can create the menu.  &                      TRAIN\\_ we eat there.  \\\\\n",
      "26 &               TRAIN\\_ she talks a lot.  &            TRAIN\\_ she talks a lot.  &               TRAIN\\_ today is monday.  &  TRAIN\\_ tomorrow is saturday.  &                     TRAIN\\_ please sign.  &                      TRAIN\\_ the gallery  &                                TRAIN\\_ you return.  &         TRAIN\\_ you can control the water.  \\\\\n",
      "27 &          TRAIN\\_ tomorrow is saturday.  &           TRAIN\\_ the egg is white.  &             TRAIN\\_ today is saturday.  &  TRAIN\\_ tomorrow is saturday.  &                     TRAIN\\_ please sign.  &          TRAIN\\_ the man drinks the tea.  &                                TRAIN\\_ you return.  &           TRAIN\\_ you can create the menu.  \\\\\n",
      "28 &                 TRAIN\\_ which animals?  &                 TRAIN\\_ the gallery  &  TRAIN\\_ yesterday, today and tomorrow  &   TRAIN\\_ yes, it is possible.  &                TRAIN\\_ she reads easily.  &             TRAIN\\_ the men drink water.  &                         TRAIN\\_ you write letters.  &    TRAIN\\_ you can establish a restaurant.  \\\\\n",
      "29 &  TRAIN\\_ yesterday, today and tomorrow  &               TRAIN\\_ the professor  &                TRAIN\\_ you're welcome!  &   TRAIN\\_ yes, it is possible.  &                   TRAIN\\_ we go forward.  &                   TRAIN\\_ we drink beer.  &                          TRAIN\\_ your hat is gray.  &                    TRAIN\\_ you do not see.  \\\\\n",
      "\\bottomrule\n",
      "\\end{tabular}\n",
      "\n"
     ]
    }
   ],
   "source": [
    "print(spanish_df.to_latex())"
   ]
  },
  {
   "cell_type": "code",
   "execution_count": 62,
   "metadata": {},
   "outputs": [
    {
     "data": {
      "text/plain": [
       "['NEW_ do you have three daughters? ',\n",
       " 'NEW_ do you like this? ',\n",
       " 'NEW_ do you speak french? ',\n",
       " 'NEW_ where do the children read? ',\n",
       " 'PROMPT_ do you come here often? ',\n",
       " 'PROMPT_ do you want to dance with me? ',\n",
       " 'PROMPT_ is he chinese? ',\n",
       " 'PROMPT_ is he chinese? ',\n",
       " 'PROMPT_ socks ',\n",
       " 'PROMPT_ some apples, which ones? ',\n",
       " 'PROMPT_ we learn. ',\n",
       " 'PROMPT_ where is she? ',\n",
       " 'PROMPT_ where is she? ',\n",
       " 'PROMPT_ which ones? ',\n",
       " 'PROMPT_ you are big. ',\n",
       " 'PROMPT_ you are important. ',\n",
       " 'PROMPT_ you are important. ',\n",
       " 'TRAIN_ are we going to your place or mine? ',\n",
       " 'TRAIN_ corridor or window? ',\n",
       " 'TRAIN_ do you have a boyfriend? ',\n",
       " 'TRAIN_ do you like to walk? ',\n",
       " 'TRAIN_ is he sleeping? ',\n",
       " 'TRAIN_ neither do we! ',\n",
       " 'TRAIN_ otherwise, i want a child! ',\n",
       " 'TRAIN_ seconds ',\n",
       " 'TRAIN_ the men are calm and rich. ',\n",
       " 'TRAIN_ the parties are in august. ',\n",
       " 'TRAIN_ we are reading your letters. ',\n",
       " 'TRAIN_ where do we live? ',\n",
       " 'TRAIN_ you eat pork and bread. ']"
      ]
     },
     "execution_count": 62,
     "metadata": {},
     "output_type": "execute_result"
    }
   ],
   "source": [
    "results_dict[\"french_np\"][\"10.0\"]"
   ]
  },
  {
   "cell_type": "code",
   "execution_count": null,
   "metadata": {
    "collapsed": true
   },
   "outputs": [],
   "source": []
  }
 ],
 "metadata": {
  "kernelspec": {
   "display_name": "Python 3",
   "language": "python",
   "name": "python3"
  },
  "language_info": {
   "codemirror_mode": {
    "name": "ipython",
    "version": 3
   },
   "file_extension": ".py",
   "mimetype": "text/x-python",
   "name": "python",
   "nbconvert_exporter": "python",
   "pygments_lexer": "ipython3",
   "version": "3.8.8"
  }
 },
 "nbformat": 4,
 "nbformat_minor": 2
}
