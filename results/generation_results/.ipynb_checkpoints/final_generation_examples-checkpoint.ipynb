{
 "cells": [
  {
   "cell_type": "code",
   "execution_count": 1,
   "id": "studied-adams",
   "metadata": {
    "scrolled": false
   },
   "outputs": [],
   "source": [
    "from matplotlib import pyplot as plt\n",
    "import numpy as np\n",
    "import re \n",
    "import ast\n",
    "from collections import defaultdict\n",
    "numbers = re.compile(r'\\d+(?:\\.\\d+)?')\n",
    "import language_check"
   ]
  },
  {
   "cell_type": "code",
   "execution_count": 2,
   "id": "greatest-correlation",
   "metadata": {},
   "outputs": [
    {
     "data": {
      "text/html": [
       "<style>div.output_scroll { height: 10em; }</style>"
      ],
      "text/plain": [
       "<IPython.core.display.HTML object>"
      ]
     },
     "metadata": {},
     "output_type": "display_data"
    }
   ],
   "source": [
    "from IPython.core.display import display, HTML\n",
    "display(HTML(\"<style>div.output_scroll { height: 10em; }</style>\"))"
   ]
  },
  {
   "cell_type": "markdown",
   "id": "useful-hybrid",
   "metadata": {},
   "source": [
    "## Load output files"
   ]
  },
  {
   "cell_type": "code",
   "execution_count": 3,
   "id": "mechanical-distribution",
   "metadata": {
    "scrolled": false
   },
   "outputs": [],
   "source": [
    "output_dir = \"generation_outputs/\"\n",
    "with open(output_dir+\"french_penalty\") as f:\n",
    "    french_p = f.readlines()\n",
    "with open(output_dir+\"spanish_penalty\") as f:\n",
    "    spanish_p = f.readlines()\n",
    "with open(output_dir+\"spanish_nopenalty\") as f:\n",
    "    spanish_np = f.readlines()\n",
    "with open(output_dir+\"french_nopenalty\") as f:\n",
    "    french_np = f.readlines()"
   ]
  },
  {
   "cell_type": "markdown",
   "id": "juvenile-snake",
   "metadata": {},
   "source": [
    "## Load Processing Functions"
   ]
  },
  {
   "cell_type": "code",
   "execution_count": 4,
   "id": "bright-return",
   "metadata": {
    "scrolled": false
   },
   "outputs": [],
   "source": [
    "def create_output_dict(outputs, num_students=15):\n",
    "    output_dict = defaultdict(lambda: [])\n",
    "    for i in range(0,len(outputs), 15):\n",
    "        for j in range(0, 15):\n",
    "            key = str(((i/15)+1)*10)\n",
    "            output_dict[key].append(outputs[i+j])\n",
    "    return output_dict\n",
    "\n",
    "def analyze_outputs(output_file, difficulty, student_key, language=\"french\"):\n",
    "    with open(language+\"_train\") as f:\n",
    "        ftrain = f.readlines()\n",
    "    with open(language+\"_prompts.txt\") as f:\n",
    "        fprompts = f.readlines()\n",
    "    ftrain = \"\".join(ftrain)\n",
    "    fprompts = \"\".join(fprompts)\n",
    "    outputs = ast.literal_eval(output_file[-10].replace(\"\\n\",\"\")) \n",
    "    output_dict = create_output_dict(outputs)\n",
    "    in_prompt=0\n",
    "    in_train=0\n",
    "    novel=0\n",
    "    analyzed_samples = defaultdict(lambda: [])\n",
    "    for student in range(len(output_dict[difficulty])):\n",
    "        if(student != student_key):\n",
    "            continue\n",
    "        for sample in output_dict[difficulty][student]:\n",
    "            # generated output sample was seen by the student in the student state prompt\n",
    "            if (sample  in fprompts and sample in ftrain):\n",
    "                in_prompt +=1\n",
    "                analyzed_samples[\"prompt\"].append(sample)\n",
    "            # generated output sample was seen during training\n",
    "            elif (sample in ftrain and sample not in fprompts):\n",
    "                in_train +=1\n",
    "                analyzed_samples[\"train\"].append(sample)\n",
    "            # generated output sample was not seen during training from Duolingo data\n",
    "            elif (sample not in fprompts and sample not in ftrain):\n",
    "                novel +=1\n",
    "                analyzed_samples[\"novel\"].append(sample)\n",
    "    likelihoods = (in_prompt/30, in_train/30, novel/30)\n",
    "    return likelihoods, analyzed_samples"
   ]
  },
  {
   "cell_type": "markdown",
   "id": "professional-strap",
   "metadata": {},
   "source": [
    "## Calculate Proportion of Outputs that are Novel "
   ]
  },
  {
   "cell_type": "code",
   "execution_count": 5,
   "id": "illegal-director",
   "metadata": {
    "scrolled": false
   },
   "outputs": [],
   "source": [
    "def calculate_novelty(output_file, language, diff_type=\"all\"):\n",
    "    novelty = []\n",
    "    if(diff_type==\"all\"):\n",
    "        diff_range = [\"10.0\",\"20.0\",\"30.0\", \"40.0\", \"50.0\", \"60.0\", \"70.0\",\"90.0\", \"90.0\"]\n",
    "    else:\n",
    "        diff_range = [\"10.0\"]\n",
    "    for d in diff_range:\n",
    "        for s in range(15):\n",
    "            novelty.append(analyze_outputs(output_file, d, s, language)[0][-1])\n",
    "    print(\"% Novel: \"+str(np.average(novelty)))\n",
    "    print(\"Total: \"+str(len(novelty)*30))"
   ]
  },
  {
   "cell_type": "markdown",
   "id": "adjacent-population",
   "metadata": {},
   "source": [
    "### Across all difficulties"
   ]
  },
  {
   "cell_type": "code",
   "execution_count": 6,
   "id": "tribal-flower",
   "metadata": {
    "scrolled": false
   },
   "outputs": [
    {
     "name": "stdout",
     "output_type": "stream",
     "text": [
      "Spanish w/ Penalty\n",
      "% Novel: 0.4355555555555556\n",
      "Total: 4050\n",
      "French w/ Penalty\n",
      "% Novel: 0.4762962962962964\n",
      "Total: 4050\n"
     ]
    }
   ],
   "source": [
    "print(\"Spanish w/ Penalty\")\n",
    "calculate_novelty(spanish_p, language=\"spanish\", diff_type=\"all\")\n",
    "print(\"French w/ Penalty\")\n",
    "calculate_novelty(french_p, language=\"french\", diff_type=\"all\")"
   ]
  },
  {
   "cell_type": "markdown",
   "id": "million-wealth",
   "metadata": {},
   "source": [
    "### Across high difficulty only"
   ]
  },
  {
   "cell_type": "code",
   "execution_count": 7,
   "id": "substantial-superior",
   "metadata": {
    "scrolled": false
   },
   "outputs": [
    {
     "name": "stdout",
     "output_type": "stream",
     "text": [
      "Spanish w/ Penalty\n",
      "% Novel: 0.6644444444444445\n",
      "Total: 450\n",
      "French w/ Penalty\n",
      "% Novel: 0.5533333333333333\n",
      "Total: 450\n"
     ]
    }
   ],
   "source": [
    "print(\"Spanish w/ Penalty\")\n",
    "calculate_novelty(spanish_p, language=\"spanish\", diff_type=\"difficult only\")\n",
    "print(\"French w/ Penalty\")\n",
    "calculate_novelty(french_p, language=\"french\", diff_type=\"difficult only\")"
   ]
  },
  {
   "cell_type": "markdown",
   "id": "offshore-horizontal",
   "metadata": {},
   "source": [
    "## Check Novelty Fluency"
   ]
  },
  {
   "cell_type": "code",
   "execution_count": 8,
   "id": "competitive-camel",
   "metadata": {
    "scrolled": false
   },
   "outputs": [],
   "source": [
    "def get_all_novel(output_file, language, diff_type=\"all\"):\n",
    "    novel_phrases = []\n",
    "    diff_range = [\"10.0\",\"20.0\",\"30.0\", \"40.0\", \"50.0\", \"60.0\", \"70.0\",\"80.0\", \"90.0\"]\n",
    "    for d in diff_range:\n",
    "        for s in range(15):\n",
    "            ns = analyze_outputs(output_file, d, s, language)[1][\"novel\"]\n",
    "            for n in ns:\n",
    "                novel_phrases.append(n)\n",
    "    return novel_phrases"
   ]
  },
  {
   "cell_type": "code",
   "execution_count": 9,
   "id": "arctic-feedback",
   "metadata": {
    "scrolled": false
   },
   "outputs": [
    {
     "name": "stdout",
     "output_type": "stream",
     "text": [
      "Spanish w/ Penalty\n",
      "Ungrammatical\n",
      "0.023424428332403793\n",
      "French w/ Penalty\n",
      "Ungrammatical\n",
      "0.02399183256763655\n"
     ]
    }
   ],
   "source": [
    "def get_fluency(novel_phrases):\n",
    "    tool = language_check.LanguageTool('en-US')\n",
    "    grammar_count = 0\n",
    "    for n in novel_phrases:\n",
    "        matches = tool.check(n[1:].capitalize())\n",
    "        if(\"Grammar\" in [m.category for m in matches]): #Grammar issue in sentence\n",
    "            grammar_count += 1            \n",
    "    print(\"Ungrammatical\")\n",
    "    print(grammar_count/len(novel_phrases))\n",
    "\n",
    "print(\"Spanish w/ Penalty\")\n",
    "get_fluency(get_all_novel(spanish_p, \"spanish\"))\n",
    "print(\"French w/ Penalty\")\n",
    "get_fluency(get_all_novel(french_p, \"french\"))"
   ]
  },
  {
   "cell_type": "markdown",
   "id": "proper-prerequisite",
   "metadata": {},
   "source": [
    "## View Generation Outputs"
   ]
  },
  {
   "cell_type": "code",
   "execution_count": 10,
   "id": "recovered-borough",
   "metadata": {
    "scrolled": true
   },
   "outputs": [
    {
     "data": {
      "text/plain": [
       "defaultdict(<function __main__.analyze_outputs.<locals>.<lambda>()>,\n",
       "            {'novel': [' the cuts are not big. ',\n",
       "              ' the men drink a beer. ',\n",
       "              ' they probably do not think me. ',\n",
       "              ' the horses are not natural. ',\n",
       "              ' the gallery is enormous. ',\n",
       "              ' we can desk a book. ',\n",
       "              ' he mixes coffee with milk. '],\n",
       "             'prompt': [' from september to december '],\n",
       "             'train': [' clean your room, please. ',\n",
       "              ' we drink quickly. ',\n",
       "              ' you can establish a restaurant. ',\n",
       "              ' i want a sandwich without cheese. ',\n",
       "              ' i read the newspaper. ',\n",
       "              ' please sign. ',\n",
       "              ' i know about that. ',\n",
       "              ' we drink quickly. ',\n",
       "              ' clean the mirror. ',\n",
       "              ' we eat there. ',\n",
       "              ' the plates are not big. ',\n",
       "              ' i do not know it. ',\n",
       "              ' you can create the menu. ',\n",
       "              ' june starts tomorrow. ',\n",
       "              ' we are following the clue. ',\n",
       "              ' we eat there. ',\n",
       "              ' we eat strawberries. ',\n",
       "              ' we drink quickly. ',\n",
       "              ' she reads the calendar. ',\n",
       "              ' according to you, it is yellow. ',\n",
       "              ' you do not see. ',\n",
       "              ' you can control the water. ']})"
      ]
     },
     "execution_count": 10,
     "metadata": {},
     "output_type": "execute_result"
    }
   ],
   "source": [
    "#Spanish w/o Penalty Student 6\n",
    "analyze_outputs(output_file=spanish_np, difficulty=\"10.0\", language=\"spanish\", student_key=6)[1]"
   ]
  },
  {
   "cell_type": "code",
   "execution_count": 11,
   "id": "professional-contrary",
   "metadata": {
    "scrolled": true
   },
   "outputs": [
    {
     "data": {
      "text/plain": [
       "defaultdict(<function __main__.analyze_outputs.<locals>.<lambda>()>,\n",
       "            {'train': [' you return. ',\n",
       "              ' your hat is gray. ',\n",
       "              ' you can create the menu. ',\n",
       "              ' june starts tomorrow. ',\n",
       "              ' previously on television ',\n",
       "              ' you return. ',\n",
       "              ' we drink quickly. ',\n",
       "              ' you write letters. '],\n",
       "             'novel': [' she blames us! ',\n",
       "              ' clean your room or close! ',\n",
       "              ' you can establish two properties. ',\n",
       "              ' your house is very put- pretty! ',\n",
       "              ' what does your aunt have under her shirt look like here? ',\n",
       "              ' what book have they Chosen me so far? ',\n",
       "              ' please sign! ',\n",
       "              ' i know about that book. ',\n",
       "              ' please open your bottle or newspaper? ',\n",
       "              ' clean your room! ',\n",
       "              ' she reads us lunchtime newspapers. ',\n",
       "              ' those ducks drink water. ',\n",
       "              ' october finds him maximum distance from here today! ',\n",
       "              ' you can create that menu! ',\n",
       "              ' we can abandon him. ',\n",
       "              ' how many elephants eat cheese or fish? ',\n",
       "              ' please clean your room! ',\n",
       "              ' she reads your letters. ',\n",
       "              ' he mixes coffee with water. ',\n",
       "              ' accordingly he does it. ',\n",
       "              ' you can control her water. '],\n",
       "             'prompt': [' your place or mine? ']})"
      ]
     },
     "execution_count": 11,
     "metadata": {},
     "output_type": "execute_result"
    }
   ],
   "source": [
    "#Spanish w/ Penalty Student 6\n",
    "analyze_outputs(output_file=spanish_p, difficulty=\"10.0\", language=\"spanish\", student_key=6)[1]"
   ]
  },
  {
   "cell_type": "code",
   "execution_count": 12,
   "id": "freelance-glasgow",
   "metadata": {
    "scrolled": true
   },
   "outputs": [
    {
     "data": {
      "text/plain": [
       "defaultdict(<function __main__.analyze_outputs.<locals>.<lambda>()>,\n",
       "            {'prompt': [' which ones? ',\n",
       "              ' you are important. ',\n",
       "              ' is he chinese? ',\n",
       "              ' some apples, which ones? ',\n",
       "              ' where is she? ',\n",
       "              ' socks ',\n",
       "              ' do you want to dance with me? ',\n",
       "              ' you are important. ',\n",
       "              ' is he chinese? ',\n",
       "              ' where is she? ',\n",
       "              ' we learn. ',\n",
       "              ' do you come here often? ',\n",
       "              ' you are big. '],\n",
       "             'novel': [' do you have three daughters? ',\n",
       "              ' do you like this? ',\n",
       "              ' where do the children read? ',\n",
       "              ' do you speak french? '],\n",
       "             'train': [' neither do we! ',\n",
       "              ' the men are calm and rich. ',\n",
       "              ' are we going to your place or mine? ',\n",
       "              ' is he sleeping? ',\n",
       "              ' you eat pork and bread. ',\n",
       "              ' where do we live? ',\n",
       "              ' otherwise, i want a child! ',\n",
       "              ' we are reading your letters. ',\n",
       "              ' do you have a boyfriend? ',\n",
       "              ' the parties are in august. ',\n",
       "              ' do you like to walk? ',\n",
       "              ' corridor or window? ',\n",
       "              ' seconds ']})"
      ]
     },
     "execution_count": 12,
     "metadata": {},
     "output_type": "execute_result"
    }
   ],
   "source": [
    "#French w/o Penalty Student 14\n",
    "analyze_outputs(output_file=french_np, difficulty=\"10.0\", language=\"french\", student_key=14)[1]"
   ]
  },
  {
   "cell_type": "code",
   "execution_count": 13,
   "id": "offensive-monte",
   "metadata": {
    "scrolled": true
   },
   "outputs": [
    {
     "data": {
      "text/plain": [
       "defaultdict(<function __main__.analyze_outputs.<locals>.<lambda>()>,\n",
       "            {'novel': [' which ones do not fall victim to be sold? ',\n",
       "              ' do we have chocolate or water? ',\n",
       "              ' do we like to walk distance from one-to two? ',\n",
       "              ' is he chinese or french? ',\n",
       "              ' is he sleeping or going out time? ',\n",
       "              ' some apples of your apple. ',\n",
       "              ' where does she go? ',\n",
       "              ' do these children have beans? ',\n",
       "              ' map ofis suggests an area. ',\n",
       "              ' where do we live today? ',\n",
       "              \" otherwise if i want to eat vegetables or fish they regionally cheese, it's meat. \",\n",
       "              ' do we like to walk together or apart? ',\n",
       "              ' where does he go after that jacket? ',\n",
       "              ' do we have coffee here or elsewhere? ',\n",
       "              ' do we have coffee together or onsocks ',\n",
       "              ' is he chinese or Russian? ',\n",
       "              ' do we speak soon or after tomorrow? ',\n",
       "              ' do we come here often or frequently? ',\n",
       "              ' do they come here often? '],\n",
       "             'train': [\" what's your name? \",\n",
       "              ' neither do we! ',\n",
       "              ' where do we live? ',\n",
       "              ' corridor or window? ',\n",
       "              ' beans and bread ',\n",
       "              ' seconds '],\n",
       "             'prompt': [' is he chinese? ',\n",
       "              ' socks ',\n",
       "              ' socks ',\n",
       "              ' is he chinese? ',\n",
       "              ' is he chinese? ']})"
      ]
     },
     "execution_count": 13,
     "metadata": {},
     "output_type": "execute_result"
    }
   ],
   "source": [
    "#French w/ Penalty Student 14\n",
    "analyze_outputs(output_file=french_p, difficulty=\"10.0\", language=\"french\", student_key=14)[1]"
   ]
  },
  {
   "cell_type": "markdown",
   "id": "allied-douglas",
   "metadata": {},
   "source": [
    "## Plot Generation Quality"
   ]
  },
  {
   "cell_type": "code",
   "execution_count": 14,
   "id": "peripheral-registration",
   "metadata": {},
   "outputs": [
    {
     "data": {
      "image/png": "[encoded data removed]",
      "text/plain": [
       "<Figure size 648x360 with 1 Axes>"
      ]
     },
     "metadata": {
      "needs_background": "light"
     },
     "output_type": "display_data"
    }
   ],
   "source": [
    "def plot():\n",
    "    lines = [french_np, french_p, spanish_p, spanish_np]\n",
    "    titles = [\"french\", \"french w/ penalty\", \"spanish w/ penalty\", \"spanish\"]\n",
    "    colors = [\"mediumvioletred\", \"mediumvioletred\", \"cornflowerblue\", \"cornflowerblue\"]\n",
    "    plt.figure(figsize=(9,5))\n",
    "    for li in range(len(lines)):\n",
    "        alpha=1.0\n",
    "        if(li in [1, 2]):\n",
    "            alpha=0.5\n",
    "        data = [[float(numbers.findall(xi)[0]) for xi in x.split(\",\")] for x in lines[li][-9:]]\n",
    "        x = [(d[0]/100+((li-2)/100)) for d in data]\n",
    "        plt.xticks(np.array(x)-.01)\n",
    "        y = [d[1] for d in data]\n",
    "        std = [d[2] for d in data]\n",
    "        plt.bar(x,y, yerr=std, width=.01, color=colors[li], label=titles[li], error_kw={\"alpha\":0.3}, alpha=alpha)\n",
    "    plt.xlim((0, 1))\n",
    "    plt.ylabel(\"LM-KT Likelihood\", fontsize=20)\n",
    "    plt.xlabel(\"Input Target Difficulty for Generation\", fontsize=20)\n",
    "    plt.legend(fontsize=17)\n",
    "    plt.show()\n",
    "plot()"
   ]
  }
 ],
 "metadata": {
  "kernelspec": {
   "display_name": "Python 3",
   "language": "python",
   "name": "python3"
  },
  "language_info": {
   "codemirror_mode": {
    "name": "ipython",
    "version": 3
   },
   "file_extension": ".py",
   "mimetype": "text/x-python",
   "name": "python",
   "nbconvert_exporter": "python",
   "pygments_lexer": "ipython3",
   "version": "3.7.9"
  }
 },
 "nbformat": 4,
 "nbformat_minor": 5
}
